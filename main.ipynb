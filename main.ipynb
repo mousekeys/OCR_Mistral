{
 "cells": [
  {
   "cell_type": "code",
   "execution_count": 25,
   "id": "aa600e45",
   "metadata": {},
   "outputs": [
    {
     "name": "stdout",
     "output_type": "stream",
     "text": [
      "Requirement already satisfied: mistralai in /home/sinju/miniconda3/lib/python3.13/site-packages (1.9.3)\n",
      "Requirement already satisfied: eval-type-backport>=0.2.0 in /home/sinju/miniconda3/lib/python3.13/site-packages (from mistralai) (0.2.2)\n",
      "Requirement already satisfied: httpx>=0.28.1 in /home/sinju/miniconda3/lib/python3.13/site-packages (from mistralai) (0.28.1)\n",
      "Requirement already satisfied: pydantic>=2.10.3 in /home/sinju/miniconda3/lib/python3.13/site-packages (from mistralai) (2.11.7)\n",
      "Requirement already satisfied: python-dateutil>=2.8.2 in /home/sinju/miniconda3/lib/python3.13/site-packages (from mistralai) (2.9.0.post0)\n",
      "Requirement already satisfied: typing-inspection>=0.4.0 in /home/sinju/miniconda3/lib/python3.13/site-packages (from mistralai) (0.4.0)\n",
      "Requirement already satisfied: anyio in /home/sinju/miniconda3/lib/python3.13/site-packages (from httpx>=0.28.1->mistralai) (4.10.0)\n",
      "Requirement already satisfied: certifi in /home/sinju/miniconda3/lib/python3.13/site-packages (from httpx>=0.28.1->mistralai) (2025.7.14)\n",
      "Requirement already satisfied: httpcore==1.* in /home/sinju/miniconda3/lib/python3.13/site-packages (from httpx>=0.28.1->mistralai) (1.0.9)\n",
      "Requirement already satisfied: idna in /home/sinju/miniconda3/lib/python3.13/site-packages (from httpx>=0.28.1->mistralai) (3.7)\n",
      "Requirement already satisfied: h11>=0.16 in /home/sinju/miniconda3/lib/python3.13/site-packages (from httpcore==1.*->httpx>=0.28.1->mistralai) (0.16.0)\n",
      "Requirement already satisfied: annotated-types>=0.6.0 in /home/sinju/miniconda3/lib/python3.13/site-packages (from pydantic>=2.10.3->mistralai) (0.6.0)\n",
      "Requirement already satisfied: pydantic-core==2.33.2 in /home/sinju/miniconda3/lib/python3.13/site-packages (from pydantic>=2.10.3->mistralai) (2.33.2)\n",
      "Requirement already satisfied: typing-extensions>=4.12.2 in /home/sinju/miniconda3/lib/python3.13/site-packages (from pydantic>=2.10.3->mistralai) (4.12.2)\n",
      "Requirement already satisfied: six>=1.5 in /home/sinju/miniconda3/lib/python3.13/site-packages (from python-dateutil>=2.8.2->mistralai) (1.17.0)\n",
      "Requirement already satisfied: sniffio>=1.1 in /home/sinju/miniconda3/lib/python3.13/site-packages (from anyio->httpx>=0.28.1->mistralai) (1.3.1)\n"
     ]
    }
   ],
   "source": [
    "!pip install mistralai"
   ]
  },
  {
   "cell_type": "code",
   "execution_count": null,
   "id": "300548ae",
   "metadata": {},
   "outputs": [],
   "source": [
    "from mistralai import Mistral\n",
    "import os\n",
    "from dotenv import load_dotenv\n",
    "\n",
    "load_dotenv()\n",
    "\n",
    "api_key = os.environ[\"MISTRAL_API_KEY\"]\n",
    "client = Mistral(api_key=api_key)\n",
    "\n",
    "uploaded_pdf = client.files.upload(\n",
    "    file={\n",
    "        \"file_name\": \"/home/sinju/Documents/Nextwave/OCR/png2pdf.pdf\",\n",
    "        \"content\": open(\"/home/sinju/Documents/Nextwave/OCR/png2pdf.pdf\", \"rb\"),\n",
    "    },\n",
    "    purpose=\"ocr\"\n",
    ")  "
   ]
  },
  {
   "cell_type": "code",
   "execution_count": 27,
   "id": "64ce8200",
   "metadata": {},
   "outputs": [],
   "source": [
    "retrieved_file = client.files.retrieve(file_id=uploaded_pdf.id)"
   ]
  },
  {
   "cell_type": "code",
   "execution_count": 28,
   "id": "aa5df2a0",
   "metadata": {},
   "outputs": [],
   "source": [
    "signed_url = client.files.get_signed_url(file_id=uploaded_pdf.id)"
   ]
  },
  {
   "cell_type": "code",
   "execution_count": 29,
   "id": "c3f7e403",
   "metadata": {},
   "outputs": [],
   "source": [
    "\n",
    "ocr_response = client.ocr.process(\n",
    "    model=\"mistral-ocr-latest\",\n",
    "    document={\n",
    "        \"type\": \"document_url\",\n",
    "        \"document_url\": signed_url.url,\n",
    "    },\n",
    "    include_image_base64=True\n",
    ")"
   ]
  },
  {
   "cell_type": "code",
   "execution_count": null,
   "id": "efeba46b",
   "metadata": {},
   "outputs": [
    {
     "data": {
      "text/plain": [
       "\"# 1. Best Self-Hostable Tools for Character Consistency \\n\\nStable Diffusion (SD) - Stability AI's Stable Diffusion is the leading open-source image generation model for self-hosting. Unlike closed services (MidJourney, DALL-E) which lack fine-tuning, Stable Diffusion's open models can be run on your own GPU server and customized to learn a specific character 1 . The community around SD has created many free tools and methods for character control and consistency 1 . You can choose from SD model versions (v1.5, v2.1 or the newer SDXL for higher quality) - all are self-hostable.\\n\\nLocal Deployment and UIs: To run SD on your server, popular interfaces include AUTOMATIC1111's Stable Diffusion Web UI and ComfyUI. AUTOMATIC1111's web UI (available on GitHub) is user-friendly and supports extensions for training and ControlNet. It allows you to load models, generate images, and train embeddings/LoRAs through a browser. ComfyUI is a node-based interface for advanced workflows. Both are open-source and can be installed on a server with an NVIDIA GPU. Basic requirements are a GPU with at least $\\\\sim 6-8$ GB VRAM for standard SD (more for training large models or high-res images). (For example, SDXL models demand $\\\\sim 12$ GB VRAM to train or use.) Ensure you have the SD model weights (download from HuggingFace or official sources) and that your environment has PyTorch installed.\""
      ]
     },
     "execution_count": 38,
     "metadata": {},
     "output_type": "execute_result"
    }
   ],
   "source": [
    "ocr_response.pages"
   ]
  },
  {
   "cell_type": "code",
   "execution_count": 44,
   "id": "3d4be868",
   "metadata": {},
   "outputs": [],
   "source": [
    "# Use an absolute path to be sure of the file's location\n",
    "if ocr_response and ocr_response.pages:\n",
    "    file_path = \"output.txt\" \n",
    "    with open(file_path, 'w', encoding='utf-8') as file:\n",
    "        for page in ocr_response.pages:\n",
    "            file.write(page.markdown)\n",
    "            file.write('\\n\\n---\\n\\n')"
   ]
  },
  {
   "cell_type": "code",
   "execution_count": null,
   "id": "d7987f60",
   "metadata": {},
   "outputs": [],
   "source": []
  }
 ],
 "metadata": {
  "kernelspec": {
   "display_name": "base",
   "language": "python",
   "name": "python3"
  },
  "language_info": {
   "codemirror_mode": {
    "name": "ipython",
    "version": 3
   },
   "file_extension": ".py",
   "mimetype": "text/x-python",
   "name": "python",
   "nbconvert_exporter": "python",
   "pygments_lexer": "ipython3",
   "version": "3.13.5"
  }
 },
 "nbformat": 4,
 "nbformat_minor": 5
}
